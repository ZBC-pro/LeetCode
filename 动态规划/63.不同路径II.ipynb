{
 "cells": [
  {
   "cell_type": "code",
   "execution_count": null,
   "id": "209338c2-35ca-4628-bde9-456f917edd54",
   "metadata": {},
   "outputs": [],
   "source": [
    "给定一个 m x n 的整数数组 grid。一个机器人初始位于 左上角（即 grid[0][0]）。机器人尝试移动到 右下角（即 grid[m - 1][n - 1]）。机器人每次只能向下或者向右移动一步。\n",
    "\n",
    "网格中的障碍物和空位置分别用 1 和 0 来表示。机器人的移动路径中不能包含 任何 有障碍物的方格。\n",
    "\n",
    "返回机器人能够到达右下角的不同路径数量。\n",
    "\n",
    "测试用例保证答案小于等于 2 * 109。"
   ]
  },
  {
   "cell_type": "code",
   "execution_count": null,
   "id": "d8110a3c-cf41-441c-9bfe-236bdc182a03",
   "metadata": {},
   "outputs": [],
   "source": []
  }
 ],
 "metadata": {
  "kernelspec": {
   "display_name": "Python 3 (ipykernel)",
   "language": "python",
   "name": "python3"
  },
  "language_info": {
   "codemirror_mode": {
    "name": "ipython",
    "version": 3
   },
   "file_extension": ".py",
   "mimetype": "text/x-python",
   "name": "python",
   "nbconvert_exporter": "python",
   "pygments_lexer": "ipython3",
   "version": "3.12.4"
  }
 },
 "nbformat": 4,
 "nbformat_minor": 5
}
