{
 "cells": [
  {
   "cell_type": "markdown",
   "id": "ec4029a5-9f85-464f-92de-3357f0608e17",
   "metadata": {},
   "source": [
    "![jupyter](./picture/62.1.png)\n",
    "一个机器人位于一个 m x n 网格的左上角 （起始点在下图中标记为 “Start” ）。\n",
    "\n",
    "机器人每次只能向下或者向右移动一步。机器人试图达到网格的右下角（在下图中标记为 “Finish” ）。\n",
    "\n",
    "问总共有多少条不同的路径？\n",
    "\n",
    "示例 1：\n",
    "输入：m = 3, n = 7\n",
    "输出：28\n",
    "\n",
    "示例 2：\n",
    "输入：m = 3, n = 2\n",
    "输出：3\n",
    "解释：\n",
    "从左上角开始，总共有 3 条路径可以到达右下角。\n",
    "1. 向右 -> 向下 -> 向下\n",
    "2. 向下 -> 向下 -> 向右\n",
    "3. 向下 -> 向右 -> 向下\n",
    "\n",
    "示例 3：\n",
    "输入：m = 7, n = 3\n",
    "输出：28\n",
    "\n",
    "示例 4：\n",
    "输入：m = 3, n = 3\n",
    "输出：6"
   ]
  },
  {
   "cell_type": "markdown",
   "id": "a814b468-93a1-4c45-bc7b-9209b692c626",
   "metadata": {},
   "source": [
    "**动规五部曲**  \n",
    "\n",
    "因为有两个状态，所以要用二维dp数组      dp[i][j]。\n",
    "\n",
    "\n",
    "1.dp数组的含义  \n",
    "dp[0][0] 到 dp[i][j] 有多少种不同的路径，如 dp[1][2] 意思就是从dp[0][0] 走到 dp[1][2]一共有多少种不同的走法  \n",
    "\n",
    "2.递推公式，基于dp数组含义的一个推导   \n",
    "因为只有两种走法，一种向下一种向右，所以到dp[i][j]也就是能是从上面下来或者是从左边向右    \n",
    "从左向右走的那一步 dp[i - 1][j]    含义：走到 dp[i - 1][j] 共有多少条路径，此时i等同于左右的 x 轴方向，并且 i - 1 左移一格，即将向右走  \n",
    "从上走到下的那一步 dp[i][j - 1]    含义：走到 dp[i][j - 1] 共有多少条路径此时j等同于上下的 y 轴方向，并且 j - 1 上移一格，即将向下走  \n",
    "此时 dp[i][j] = dp[i - 1][j] + dp[i][j - 1]    到达现在的 dp[i][j] 共有这么多种方法  \n",
    "\n",
    "3.初始化dp[i][j]数组  \n",
    "对于第一行横轴 d[0][j]，每一格只有一种走法，那就只能是从左到右依次，\n",
    "对于第一列纵轴 d[i][0]，每一格只有一种走法，那就只能是从上到下依次，\n",
    "所以遍历i，j，d[0][j] = 1， d[i][0] = 1\n",
    "\n",
    "4.遍历顺序\n",
    "从左向右，从上向下，因为初始值在最左边的一列和最上面的一列，只能通过最左边的列或者最上面的列出发向右或向下进行遍历\n",
    "\n",
    "5.打印dp[i][j]数组\n",
    "\n",
    "\n",
    "![jupyter](./picture/62.3.png)\n",
    "\n",
    "\n",
    "![jupyter](./picture/62.2.png)"
   ]
  },
  {
   "cell_type": "code",
   "execution_count": 18,
   "id": "6fe4e8b7-ad66-4bd0-ab48-82f95cc0c2d1",
   "metadata": {},
   "outputs": [
    {
     "name": "stdout",
     "output_type": "stream",
     "text": [
      "[[1, 1, 1, 1, 1, 1, 1], [1, 2, 3, 4, 5, 6, 7], [1, 3, 6, 10, 15, 21, 28]]\n",
      "28\n"
     ]
    }
   ],
   "source": [
    "class Solution:\n",
    "    def uniquePaths(self, m: int, n: int) -> int:\n",
    "        # 创建二维数组  m 纵向，n横向\n",
    "        dp = [[0] * n for _ in range(m)]\n",
    "        # 初始化二维数组\n",
    "        for i in range(m):\n",
    "            dp[i][0] = 1\n",
    "        for j in range(n):\n",
    "            dp[0][j] = 1\n",
    "        # 递推公式  从左向右从上到下\n",
    "        # 第一行和第一列都初始化过了，所以无需遍历\n",
    "        for i in range(1, m):\n",
    "            for j in range(1, n):\n",
    "                dp[i][j] = dp[i - 1][j] + dp[i][j - 1]\n",
    "\n",
    "        print(dp)\n",
    "\n",
    "        return dp[i][j]\n",
    "\n",
    "if __name__ == \"__main__\":\n",
    "    s = Solution()\n",
    "    m = 3\n",
    "    n = 7\n",
    "    # m = int(input(\"请输入m值:\"))\n",
    "    # n = int(input(\"请输入n值:\"))\n",
    "    print(s.uniquePaths(m, n))"
   ]
  },
  {
   "cell_type": "code",
   "execution_count": null,
   "id": "e82930a3-f58d-4a69-8f10-36bee348f24c",
   "metadata": {},
   "outputs": [],
   "source": []
  }
 ],
 "metadata": {
  "kernelspec": {
   "display_name": "Python 3 (ipykernel)",
   "language": "python",
   "name": "python3"
  },
  "language_info": {
   "codemirror_mode": {
    "name": "ipython",
    "version": 3
   },
   "file_extension": ".py",
   "mimetype": "text/x-python",
   "name": "python",
   "nbconvert_exporter": "python",
   "pygments_lexer": "ipython3",
   "version": "3.12.4"
  }
 },
 "nbformat": 4,
 "nbformat_minor": 5
}
